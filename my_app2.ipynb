{
 "cells": [
  {
   "cell_type": "code",
   "execution_count": 20,
   "metadata": {},
   "outputs": [],
   "source": [
    "import requests\n",
    "from IPython.core.display import HTML"
   ]
  },
  {
   "cell_type": "code",
   "execution_count": 22,
   "metadata": {},
   "outputs": [
    {
     "name": "stdout",
     "output_type": "stream",
     "text": [
      "Overwriting server.py\n"
     ]
    }
   ],
   "source": [
    "%%writefile server.py\n",
    "\n",
    "from flask import Flask, request, render_template, redirect, session\n",
    "import cv2\n",
    "import numpy as np\n",
    "import datetime\n",
    "import requests\n",
    "from IPython.core.display import HTML\n",
    "\n",
    "app = Flask(__name__)\n",
    "\n",
    "@app.route('/')\n",
    "def index():\n",
    "    html = \"\"\"\n",
    "    <h1>안녕하세요</h1>\n",
    "    \"\"\"\n",
    "\n",
    "    return html\n",
    "\n",
    "datas = [45.7, 45, 10, 70.8]\n",
    "\n",
    "@app.route('/signal') # 데이터 송수신\n",
    "def signal():\n",
    "    global datas\n",
    "    datas.append( float(request.args.get(\"data\")) )\n",
    "    return str(datas)\n",
    "\n",
    "@app.route('/view') # 데이터를 모니터링 하는 앱\n",
    "def view():\n",
    "    global datas\n",
    "    \n",
    "#     labels = [\"\" for d in datas]\n",
    "    labels = [i+1 for i in range(len(datas))]\n",
    "    \n",
    "    ctx = {'title':'그래프', \n",
    "           'labels':labels,\n",
    "           'data':datas,\n",
    "          }\n",
    "    \n",
    "    return render_template('view.html', ctx=ctx)\n",
    "\n",
    "@app.route('/upload')\n",
    "def upload():\n",
    "    return \"\"\n",
    "\n",
    "\n",
    "if __name__ == '__main__':\n",
    "    app.run(host='0.0.0.0', debug=True, port=8000)"
   ]
  },
  {
   "cell_type": "code",
   "execution_count": 1,
   "metadata": {},
   "outputs": [
    {
     "name": "stdout",
     "output_type": "stream",
     "text": [
      "Overwriting server.py\n"
     ]
    }
   ],
   "source": [
    "\n",
    "%%writefile server.py\n",
    "\n",
    "from flask import Flask, request, render_template, redirect, session, make_response\n",
    "import cv2\n",
    "import numpy as np\n",
    "import datetime\n",
    "import requests\n",
    "import qrcode\n",
    "from pyzbar.pyzbar import decode\n",
    "\n",
    "app = Flask(__name__)\n",
    "\n",
    "face_classifier = cv2.CascadeClassifier('haarcascade_frontalface_default.xml')\n",
    "eye_classifier = cv2.CascadeClassifier('haarcascade_eye.xml')\n",
    "\n",
    "@app.route('/')\n",
    "def index():\n",
    "    html = \"\"\"\n",
    "        보행자 검출 Test\n",
    "    \"\"\"\n",
    "    return html\n",
    "\n",
    "\n",
    "@app.route('/upload', methods=[\"post\"])\n",
    "def upload():\n",
    "    f = request.files['file1']\n",
    "    filename = \"./static/\" + f.filename\n",
    "    f.save(filename)\n",
    "    \n",
    "    img = cv2.imread(filename)\n",
    "#     img = cv2.resize(img, dsize=(0,0), fx=0.25, fy=0.25)\n",
    "    \n",
    "    faces = face_classifier.detectMultiScale(img)\n",
    "    \n",
    "    if len(faces) > 0:\n",
    "        for (x1, y1, w1, h1) in faces:\n",
    "            cv2.rectangle(img, (x1, y1), (x1 + w1, y1 + h1), (255, 0, 255), 2)\n",
    "\n",
    "        retval, buffer = cv2.imencode('.jpg', img)\n",
    "\n",
    "        response = make_response(buffer.tobytes())\n",
    "        response.headers['Content-Type'] = 'image/jpg'\n",
    "    \n",
    "        return response\n",
    "    \n",
    "    code = decode(img)\n",
    "    url = code[0].data.decode('utf-8')\n",
    "    \n",
    "    \n",
    "    return f\"<a href='{url}'>QR코드가기</a>\"\n",
    "\n",
    "if __name__ == '__main__':\n",
    "    app.run(host='0.0.0.0', debug=True, port=8000)"
   ]
  },
  {
   "cell_type": "code",
   "execution_count": 1,
   "metadata": {},
   "outputs": [
    {
     "name": "stdout",
     "output_type": "stream",
     "text": [
      "Writing server.py\n"
     ]
    }
   ],
   "source": [
    "%%writefile server.py\n",
    "import cv2\n",
    "import numpy as np\n",
    "import io\n",
    "import random\n",
    "from flask import Flask, request, render_template, make_response, Response\n",
    "\n",
    "app = Flask(__name__)\n",
    "\n",
    "vc = cv2.VideoCapture('vtest.avi')\n",
    "\n",
    "hog = cv2.HOGDescriptor()\n",
    "hog.setSVMDetector(cv2.HOGDescriptor_getDefaultPeopleDetector())\n",
    "\n",
    "face_classifier = cv2.CascadeClassifier('haarcascade_frontalface_default.xml')\n",
    "eye_classifier = cv2.CascadeClassifier('haarcascade_eye.xml')\n",
    "\n",
    "\n",
    "datas = []\n",
    "\n",
    "@app.route('/')\n",
    "def index():\n",
    "    html = \"\"\"\n",
    "    <h1>사람 찾기</h1>\n",
    "    <button type=button id=haar>Haar</button>\n",
    "    <button type=button id=hog>HOG</button>\n",
    "    <img src=/video_feed width=320 height=240>\n",
    "    \"\"\"\n",
    "    return  html\n",
    "\n",
    "\n",
    "def gen():\n",
    "    while True:\n",
    "        read_return_code, frame = vc.read()\n",
    "        \n",
    "        detected, _ = hog.detectMultiScale(frame)\n",
    "        \n",
    "        for (x, y, w, h) in detected: \n",
    "            c = (255,100,100)\n",
    "            cv2.rectangle(frame, (x, y), (x + w, y + h), c, 3)\n",
    "        \n",
    "        rect = detected\n",
    "        datas.append(len(rect))\n",
    "        \n",
    "        encode_return_code, image_buffer = cv2.imencode('.jpg', frame)\n",
    "        io_buf = io.BytesIO(image_buffer)\n",
    "        yield (b'--frame\\r\\n'\n",
    "               b'Content-Type: image/jpeg\\r\\n\\r\\n' + io_buf.read() + b'\\r\\n')\n",
    "        \n",
    "\n",
    "@app.route('/video_feed')\n",
    "def video_feed():\n",
    "    \"\"\"Video streaming route. Put this in the src attribute of an img tag.\"\"\"\n",
    "    \n",
    "    return Response(\n",
    "        gen(),\n",
    "        mimetype='multipart/x-mixed-replace; boundary=frame'\n",
    "    )\n",
    "\n",
    "@app.route('/view') # 데이터를 모니터링 하는 앱\n",
    "def view():\n",
    "    global datas\n",
    "    \n",
    "#     labels = [\"\" for d in datas]\n",
    "    labels = [i+1 for i in range(len(datas))]\n",
    "    \n",
    "    ctx = {'title':'그래프', \n",
    "           'labels':labels,\n",
    "           'data':datas,\n",
    "          }\n",
    "    \n",
    "    return render_template('view.html', ctx=ctx)\n",
    "\n",
    "if __name__ == '__main__':\n",
    "     app.run(host='0.0.0.0', debug=True, port=8000)      \n"
   ]
  },
  {
   "cell_type": "markdown",
   "metadata": {},
   "source": [
    "### generator"
   ]
  },
  {
   "cell_type": "code",
   "execution_count": 8,
   "metadata": {},
   "outputs": [
    {
     "name": "stdout",
     "output_type": "stream",
     "text": [
      "10\n",
      "20\n",
      "30\n"
     ]
    }
   ],
   "source": [
    "def fun():\n",
    "    yield 10\n",
    "    yield 20\n",
    "    yield 30\n",
    "\n",
    "for i in fun():\n",
    "    print(i)"
   ]
  },
  {
   "cell_type": "code",
   "execution_count": 9,
   "metadata": {},
   "outputs": [
    {
     "name": "stdout",
     "output_type": "stream",
     "text": [
      "10\n",
      "20\n",
      "30\n"
     ]
    }
   ],
   "source": [
    "a = fun()\n",
    "print(next(a))\n",
    "print(next(a))\n",
    "print(next(a))"
   ]
  },
  {
   "cell_type": "code",
   "execution_count": 12,
   "metadata": {},
   "outputs": [
    {
     "name": "stdout",
     "output_type": "stream",
     "text": [
      "10\n",
      "20\n",
      "30\n",
      "10\n",
      "20\n",
      "30\n",
      "10\n",
      "20\n",
      "30\n"
     ]
    }
   ],
   "source": [
    "def fun():\n",
    "    while True:\n",
    "        yield 10\n",
    "        yield 20\n",
    "        yield 30\n",
    "\n",
    "a = fun()\n",
    "print(next(a))\n",
    "print(next(a))\n",
    "print(next(a))\n",
    "print(next(a))\n",
    "print(next(a))\n",
    "print(next(a))\n",
    "print(next(a))\n",
    "print(next(a))\n",
    "print(next(a))"
   ]
  },
  {
   "cell_type": "code",
   "execution_count": 13,
   "metadata": {},
   "outputs": [
    {
     "name": "stdout",
     "output_type": "stream",
     "text": [
      "10\n"
     ]
    }
   ],
   "source": [
    "print(next(a))"
   ]
  },
  {
   "cell_type": "code",
   "execution_count": 2,
   "metadata": {},
   "outputs": [
    {
     "name": "stdout",
     "output_type": "stream",
     "text": [
      "Overwriting server.py\n"
     ]
    }
   ],
   "source": [
    "%%writefile server.py\n",
    "import cv2\n",
    "import numpy as np\n",
    "import io\n",
    "import random\n",
    "\n",
    "from flask import Flask, request, render_template, make_response, Response\n",
    "app = Flask(__name__)\n",
    "\n",
    "vc = cv2.VideoCapture('vtest.avi')\n",
    "\n",
    "hog = cv2.HOGDescriptor()\n",
    "hog.setSVMDetector(cv2.HOGDescriptor_getDefaultPeopleDetector())\n",
    "\n",
    "datas = []\n",
    "\n",
    "def detectHuman(frame) :\n",
    "    detected, _ = hog.detectMultiScale(frame)\n",
    "\n",
    "    for (x, y, w, h) in detected:\n",
    "        c = (random.randint(0, 255),\n",
    "             random.randint(0, 255), \n",
    "             random.randint(0, 255))\n",
    "        cv2.rectangle(frame, (x, y), (x + w, y + h), c, 3)\n",
    "    return detected    \n",
    "\n",
    "@app.route('/')\n",
    "def index():\n",
    "    return  render_template(\"human.html\")\n",
    "\n",
    "def gen():\n",
    "    global vc\n",
    "    global datas\n",
    "    \n",
    "    while True:\n",
    "        read_return_code, frame = vc.read()\n",
    "        \n",
    "        if not read_return_code :\n",
    "            vc = cv2.VideoCapture('vtest.avi')\n",
    "            datas = []\n",
    "            break;\n",
    "        \n",
    "        rect = detectHuman(frame)\n",
    "        \n",
    "        datas.append(len(rect))\n",
    "        \n",
    "        \n",
    "        encode_return_code, image_buffer = cv2.imencode('.jpg', frame)\n",
    "        io_buf = io.BytesIO(image_buffer)\n",
    "        yield (b'--frame\\r\\n'\n",
    "               b'Content-Type: image/jpeg\\r\\n\\r\\n' + io_buf.read() + b'\\r\\n')\n",
    "\n",
    "\n",
    "@app.route('/video_feed')\n",
    "def video_feed():\n",
    "    \"\"\"Video streaming route. Put this in the src attribute of an img tag.\"\"\"\n",
    "    return Response(\n",
    "        gen(),\n",
    "        mimetype='multipart/x-mixed-replace; boundary=frame'\n",
    "    )\n",
    "\n",
    "@app.route('/view')\n",
    "def view():\n",
    "    global datas\n",
    "    return str(datas)\n",
    "    \n",
    "if __name__ == '__main__':\n",
    "     app.run(host='0.0.0.0', debug=True, port=8000)      "
   ]
  }
 ],
 "metadata": {
  "kernelspec": {
   "display_name": "Python 3",
   "language": "python",
   "name": "python3"
  },
  "language_info": {
   "codemirror_mode": {
    "name": "ipython",
    "version": 3
   },
   "file_extension": ".py",
   "mimetype": "text/x-python",
   "name": "python",
   "nbconvert_exporter": "python",
   "pygments_lexer": "ipython3",
   "version": "3.7.6"
  },
  "toc": {
   "base_numbering": 1,
   "nav_menu": {},
   "number_sections": false,
   "sideBar": true,
   "skip_h1_title": false,
   "title_cell": "Table of Contents",
   "title_sidebar": "Contents",
   "toc_cell": false,
   "toc_position": {},
   "toc_section_display": true,
   "toc_window_display": false
  }
 },
 "nbformat": 4,
 "nbformat_minor": 4
}
